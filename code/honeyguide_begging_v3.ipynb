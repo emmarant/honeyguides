{
 "cells": [
  {
   "cell_type": "markdown",
   "id": "acf7652b",
   "metadata": {},
   "source": [
    "Created: 07 June 2022\n",
    "\n",
    "version: 2\n",
    "\n",
    "notes: use pandas dataframe to load files info from xls spreadsheet"
   ]
  },
  {
   "cell_type": "markdown",
   "id": "81ca2705",
   "metadata": {},
   "source": [
    "### set up environment and functions"
   ]
  },
  {
   "cell_type": "markdown",
   "id": "c4128b23",
   "metadata": {},
   "source": [
    "Let's import some useful stuff first"
   ]
  },
  {
   "cell_type": "code",
   "execution_count": null,
   "id": "cf349445",
   "metadata": {},
   "outputs": [],
   "source": [
    "import numpy as np\n",
    "import matplotlib.pyplot as plt\n",
    "import scipy\n",
    "import pandas as pd\n",
    "\n",
    "import librosa\n",
    "import librosa.display\n",
    "import IPython.display as ipd\n",
    "\n",
    "import os"
   ]
  },
  {
   "cell_type": "markdown",
   "id": "f9b8d647",
   "metadata": {},
   "source": [
    "### Dataframes"
   ]
  },
  {
   "cell_type": "markdown",
   "id": "60859e3a",
   "metadata": {},
   "source": [
    "#### All files in one dataframe"
   ]
  },
  {
   "cell_type": "markdown",
   "id": "398ff850",
   "metadata": {},
   "source": [
    "read xls file with info on all audio files into a database."
   ]
  },
  {
   "cell_type": "code",
   "execution_count": null,
   "id": "97ca7b13",
   "metadata": {},
   "outputs": [],
   "source": [
    "# the root directory of the all audio recordings\n",
    "data_root_dir = '/Users/emmanouela/Documents/animal_behaviour_research/acoustics/mimicry/honeyguides/data/recordings'"
   ]
  },
  {
   "cell_type": "code",
   "execution_count": null,
   "id": "859668be",
   "metadata": {},
   "outputs": [],
   "source": [
    "#location of xls file\n",
    "xls_file = '/Users/emmanouela/Documents/animal_behaviour_research/acoustics/mimicry/honeyguides/data/recordings_emmanouela.xlsx'\n",
    "\n",
    "# read xls in pandas dataframe\n",
    "df_all = pd.read_excel(xls_file)\n",
    "\n",
    "#take a look at header and 5 first entries of dataframe\n",
    "df_all.head(10) "
   ]
  },
  {
   "cell_type": "markdown",
   "id": "ca84e473",
   "metadata": {},
   "source": [
    "#### Renove spaces from names of original audio files"
   ]
  },
  {
   "cell_type": "markdown",
   "id": "35cc53fb",
   "metadata": {},
   "source": [
    "**This step only needs to be done once for each set of recording files; and if necessary only**\n",
    "\n",
    "We will rename the audio files to remove spaces and replace them with underscores. We can then adjust the file name entries accordingly in the dataframe (xls file remains as is)"
   ]
  },
  {
   "cell_type": "code",
   "execution_count": null,
   "id": "a09d9697",
   "metadata": {},
   "outputs": [],
   "source": [
    "for file in df_all['file_name']:\n",
    "    old_name=os.path.join(data_root_dir,df_all.loc[df_all['file_name'] == file, 'type'].item(),file+'.wav')\n",
    "    new_name=os.path.join(data_root_dir,df_all.loc[df_all['file_name'] == file, 'type'].item(),file.replace(' ', '_')+'.wav')\n",
    "    #print(old_name)\n",
    "    #print(new_name)\n",
    "    if os.path.exists(old_name):    \n",
    "        os.rename(old_name,new_name)\n",
    "        print(new_name)"
   ]
  },
  {
   "cell_type": "markdown",
   "id": "edee5038",
   "metadata": {},
   "source": [
    "#### Correct filenames in dataframe"
   ]
  },
  {
   "cell_type": "markdown",
   "id": "00affd99",
   "metadata": {},
   "source": [
    "__now lets correct the filename entries in the dataframe so that they also do not have spaces and they correspond to the renames files__\n"
   ]
  },
  {
   "cell_type": "code",
   "execution_count": null,
   "id": "33545e95",
   "metadata": {},
   "outputs": [],
   "source": [
    "df_all['file_name'] = df_all['file_name'].str.replace(' ','_')\n",
    "df_all.head(10)"
   ]
  },
  {
   "cell_type": "markdown",
   "id": "50aadd9e",
   "metadata": {},
   "source": [
    "#### Find duration of each audio file in main dataframe"
   ]
  },
  {
   "cell_type": "code",
   "execution_count": null,
   "id": "53d7ff3a",
   "metadata": {
    "code_folding": []
   },
   "outputs": [],
   "source": [
    "for file in df_all['file_name']:\n",
    "    audio=os.path.join(data_root_dir,df_all.loc[df_all['file_name']==file,'type'].item(),file+'.wav')\n",
    "    signal,sr=librosa.load(audio)\n",
    "    print(f'total audio duration of file {file} is : {len(signal)/sr:.2f}s')\n"
   ]
  },
  {
   "cell_type": "markdown",
   "id": "303bc093",
   "metadata": {},
   "source": [
    "#### create separate  dataframes for each type of calls"
   ]
  },
  {
   "cell_type": "code",
   "execution_count": null,
   "id": "4c1fb139",
   "metadata": {},
   "outputs": [],
   "source": [
    "# let's see how many unique 'types' we have in the main dataframe\n",
    "print(df_all.type.unique())"
   ]
  },
  {
   "cell_type": "code",
   "execution_count": null,
   "id": "be986416",
   "metadata": {},
   "outputs": [],
   "source": [
    "# create one dataframe for each 'type' of calls and check how many files we have in each of the new dataframes\n",
    "\n",
    "for call_type in df_all.type.unique():\n",
    "    vars()['df_'+call_type] = df_all[df_all['type']== call_type]\n",
    "    print('there are {} audio files in the {} category'.format(len(vars()['df_'+call_type]),call_type))"
   ]
  },
  {
   "cell_type": "markdown",
   "id": "940838c0",
   "metadata": {},
   "source": [
    "### Plot audiowaves"
   ]
  },
  {
   "cell_type": "code",
   "execution_count": null,
   "id": "b68b8875",
   "metadata": {},
   "outputs": [],
   "source": [
    "def plot_audiowaves(df,n_waves,start_index,c_map='nipy_spectral'):\n",
    "    color_map= plt.get_cmap(c_map)\n",
    "    colors = iter(color_map(np.linspace(0,1,n_waves+1)))\n",
    "    for file in df['file_name'][start_index:start_index+n_waves]:\n",
    "        call_type = df.loc[df['file_name']==file,'type'].item()\n",
    "        stage = df.loc[df['file_name']==file,'chick stage'].item()\n",
    "        if str(stage)=='nan':\n",
    "            stage='stage unknown'\n",
    "        audio=os.path.join(data_root_dir,call_type,file+'.wav')\n",
    "        signal,sr=librosa.load(audio)\n",
    "        ipd.display(ipd.Audio(data=audio,rate=sr))\n",
    "        plt.figure(figsize=(8,5))\n",
    "        librosa.display.waveshow(signal, sr=sr,alpha=0.4,color=next(colors))\n",
    "        plt.title(file + '   ' +  call_type + '    ' + str(stage))\n",
    "        plt.show()\n",
    "        print('\\n')  \n",
    "    return    "
   ]
  },
  {
   "cell_type": "code",
   "execution_count": null,
   "id": "c45c8d7c",
   "metadata": {
    "scrolled": true
   },
   "outputs": [],
   "source": [
    "plot_audiowaves(df_host1_brood[df_host1_brood['chick stage']=='stage 4'],len(df_host1_brood[df_host1_brood['chick stage']=='stage 4']),0)"
   ]
  },
  {
   "cell_type": "code",
   "execution_count": null,
   "id": "1f195841",
   "metadata": {
    "scrolled": true
   },
   "outputs": [],
   "source": [
    "plot_audiowaves(df_host1_single,len(df_host1_single),0)"
   ]
  },
  {
   "cell_type": "code",
   "execution_count": null,
   "id": "a57bd754",
   "metadata": {
    "scrolled": true
   },
   "outputs": [],
   "source": [
    "plot_audiowaves(df_parasite1_single[df_parasite1_single['chick stage']=='stage 4'],len(df_parasite1_single[df_parasite1_single['chick stage']=='stage 4']),0)"
   ]
  },
  {
   "cell_type": "code",
   "execution_count": null,
   "id": "f8ce9dcc",
   "metadata": {
    "scrolled": true
   },
   "outputs": [],
   "source": [
    "plot_audiowaves(df_host2_brood,len(df_host2_brood),0)"
   ]
  },
  {
   "cell_type": "code",
   "execution_count": null,
   "id": "228a6566",
   "metadata": {
    "scrolled": true
   },
   "outputs": [],
   "source": [
    "plot_audiowaves(df_host2_single,len(df_host2_single),0)"
   ]
  },
  {
   "cell_type": "code",
   "execution_count": null,
   "id": "d8a1ff7b",
   "metadata": {
    "scrolled": true
   },
   "outputs": [],
   "source": [
    "plot_audiowaves(df_parasite2_single,len(df_parasite2_single),0)"
   ]
  },
  {
   "cell_type": "markdown",
   "id": "53b2832c",
   "metadata": {},
   "source": [
    "### Amplitude Envelope"
   ]
  },
  {
   "cell_type": "code",
   "execution_count": null,
   "id": "403f7fef",
   "metadata": {},
   "outputs": [],
   "source": [
    "frame_size = 512\n",
    "hop_length = 256"
   ]
  },
  {
   "cell_type": "code",
   "execution_count": null,
   "id": "87b33daa",
   "metadata": {},
   "outputs": [],
   "source": [
    "def amplitude_envelope(signal,frame_size,hop_length):\n",
    "    amp_env = np.array([max(signal[i:i+frame_size]) for i in range(0,len(signal),hop_length)])\n",
    "    return amp_env\n"
   ]
  },
  {
   "cell_type": "code",
   "execution_count": null,
   "id": "4973abc1",
   "metadata": {},
   "outputs": [],
   "source": [
    "# host2_brood, 4 x stage-4 chicks\n",
    "file = df_host2_brood[df_host2_brood['chick stage']=='stage 4'].iloc[0]['file_name']\n",
    "signal,sr_h2b_s4_4=librosa.load(os.path.join(data_root_dir,df_host2_brood.iloc[0]['type'],file+'.wav'))\n",
    "signal_h2b_s4_4 = signal[sr_h2b_s4_4*10:sr_h2b_s4_4*18]"
   ]
  },
  {
   "cell_type": "code",
   "execution_count": null,
   "id": "b207fc3a",
   "metadata": {},
   "outputs": [],
   "source": [
    "amp_env_h2b_s4_4 = amplitude_envelope(signal_h2b_s4_4,frame_size,hop_length)\n",
    "n_frames=range(len(amp_env_h2b_s4_4))\n",
    "time=librosa.frames_to_time(n_frames,hop_length=hop_length)\n",
    "\n",
    "plt.figure(figsize=(18,8))\n",
    "plt.plot(time,amp_env_h2b_s4_4)\n",
    "plt.title(file + '  //  ' + df_host2_brood.iloc[0]['type'])\n",
    "plt.show()"
   ]
  },
  {
   "cell_type": "code",
   "execution_count": null,
   "id": "ca485ee8",
   "metadata": {},
   "outputs": [],
   "source": [
    "# host2_single, 1 x stage-4 chicks\n",
    "file = df_host2_single[df_host2_single['chick stage']=='stage 4'].iloc[0]['file_name']\n",
    "signal,sr_h2s_s4=librosa.load(os.path.join(data_root_dir,df_host2_single.iloc[0]['type'],file+'.wav'))\n",
    "signal_h2s_s4 = signal[0:sr_h2s_s4*8]"
   ]
  },
  {
   "cell_type": "code",
   "execution_count": null,
   "id": "d003def9",
   "metadata": {},
   "outputs": [],
   "source": [
    "amp_env_h2s_s4 = amplitude_envelope(signal_h2s_s4,frame_size,hop_length)\n",
    "n_frames=range(len(amp_env_h2s_s4))\n",
    "time=librosa.frames_to_time(n_frames,hop_length=hop_length)\n",
    "\n",
    "plt.figure(figsize=(18,8))\n",
    "plt.plot(time,amp_env_h2s_s4)\n",
    "plt.title(file + '  //  ' + df_host2_single.iloc[0]['type'])\n",
    "plt.show()"
   ]
  },
  {
   "cell_type": "code",
   "execution_count": null,
   "id": "dd44910d",
   "metadata": {},
   "outputs": [],
   "source": [
    "# parasite2_single, 1 x stage-4 chicks\n",
    "file = df_parasite2_single[df_parasite2_single['chick stage']=='stage 4'].iloc[0]['file_name']\n",
    "signal,sr_p2s_s4=librosa.load(os.path.join(data_root_dir,df_parasite2_single.iloc[0]['type'],file+'.wav'))\n",
    "signal_p2s_s4 = signal[sr_p2s_s4*10:sr_p2s_s4*18]"
   ]
  },
  {
   "cell_type": "code",
   "execution_count": null,
   "id": "3f7ca4ff",
   "metadata": {},
   "outputs": [],
   "source": [
    "amp_env_p2s_s4 = amplitude_envelope(signal_p2s_s4,frame_size,hop_length)\n",
    "n_frames=range(len(amp_env_p2s_s4))\n",
    "time=librosa.frames_to_time(n_frames,hop_length=hop_length)\n",
    "\n",
    "plt.figure(figsize=(18,8))\n",
    "plt.plot(time,amp_env_p2s_s4)\n",
    "plt.title(file + '  //  ' + df_parasite2_single.iloc[0]['type'])\n",
    "plt.show()"
   ]
  },
  {
   "cell_type": "markdown",
   "id": "477a9593",
   "metadata": {},
   "source": [
    "### Zero crossing rate"
   ]
  },
  {
   "cell_type": "code",
   "execution_count": null,
   "id": "d7c9f50e",
   "metadata": {},
   "outputs": [],
   "source": [
    "frame_size=2048\n",
    "hop_size=512"
   ]
  },
  {
   "cell_type": "code",
   "execution_count": null,
   "id": "92a3c7bb",
   "metadata": {},
   "outputs": [],
   "source": [
    "zcr_bbe_4 = librosa.feature.zero_crossing_rate(signal_bbe_4,frame_length=frame_size,hop_length=hop_size)[0]\n",
    "zcr_bbe_5 = librosa.feature.zero_crossing_rate(signal_bbe_5,frame_length=frame_size,hop_length=hop_size)[0]"
   ]
  },
  {
   "cell_type": "code",
   "execution_count": null,
   "id": "c3e24414",
   "metadata": {},
   "outputs": [],
   "source": [
    "t_bbe_4 = librosa.frames_to_time(range(len(zcr_bbe_4)),sr=sr_bbe_4, hop_length=hop_size)\n",
    "t_bbe_5 = librosa.frames_to_time(range(len(zcr_bbe_5)),sr=sr_bbe_5,hop_length=hop_size)"
   ]
  },
  {
   "cell_type": "code",
   "execution_count": null,
   "id": "13c63306",
   "metadata": {},
   "outputs": [],
   "source": [
    "plt.figure(figsize=(18,8))\n",
    "plt.plot(t_bbe_4,zcr_bbe_4)\n",
    "plt.plot(t_bbe_5,zcr_bbe_5,c='g')\n",
    "plt.show()"
   ]
  },
  {
   "cell_type": "code",
   "execution_count": null,
   "id": "0211ed08",
   "metadata": {},
   "outputs": [],
   "source": [
    "zcr_ghg_1 = librosa.feature.zero_crossing_rate(signal_ghg_1,frame_length=frame_size,hop_length=hop_size)[0]"
   ]
  },
  {
   "cell_type": "code",
   "execution_count": null,
   "id": "6abdb0d8",
   "metadata": {},
   "outputs": [],
   "source": [
    "t_ghg_1 = librosa.frames_to_time(range(len(zcr_ghg_1)),sr=sr_ghg_1,hop_length=hop_size)"
   ]
  },
  {
   "cell_type": "code",
   "execution_count": null,
   "id": "a8f0d7ea",
   "metadata": {},
   "outputs": [],
   "source": [
    "plt.figure(figsize=(18,8))\n",
    "plt.plot(t_ghg_1,zcr_ghg_1,c='r')\n",
    "plt.show()"
   ]
  },
  {
   "cell_type": "markdown",
   "id": "aae042ed",
   "metadata": {},
   "source": [
    "### RMS Energy"
   ]
  },
  {
   "cell_type": "code",
   "execution_count": null,
   "id": "abc5b740",
   "metadata": {},
   "outputs": [],
   "source": [
    "frame_size=2048\n",
    "hop_size=512"
   ]
  },
  {
   "cell_type": "code",
   "execution_count": null,
   "id": "96f1aa57",
   "metadata": {},
   "outputs": [],
   "source": [
    "rmsE_bbe_4 = librosa.feature.rms(y=signal_bbe_4,frame_length=frame_size,hop_length=hop_size)[0]\n",
    "rmsE_bbe_5 = librosa.feature.rms(y=signal_bbe_5,frame_length=frame_size,hop_length=hop_size)[0]"
   ]
  },
  {
   "cell_type": "code",
   "execution_count": null,
   "id": "324943c2",
   "metadata": {},
   "outputs": [],
   "source": [
    "t_bbe_4 = librosa.frames_to_time(range(len(rmsE_bbe_4)),hop_length=hop_size)\n",
    "t_bbe_5 = librosa.frames_to_time(range(len(rmsE_bbe_5)),hop_length=hop_size)"
   ]
  },
  {
   "cell_type": "code",
   "execution_count": null,
   "id": "c9ee41c4",
   "metadata": {},
   "outputs": [],
   "source": [
    "plt.figure(figsize=(18,8))\n",
    "plt.plot(t_bbe_4,rmsE_bbe_4)\n",
    "plt.plot(t_bbe_5,rmsE_bbe_5,c='g')\n",
    "plt.show()"
   ]
  },
  {
   "cell_type": "code",
   "execution_count": null,
   "id": "5d76d279",
   "metadata": {},
   "outputs": [],
   "source": [
    "rmsE_ghg_1 = librosa.feature.rms(y=signal_ghg_1,frame_length=frame_size,hop_length=hop_size)[0]"
   ]
  },
  {
   "cell_type": "code",
   "execution_count": null,
   "id": "276bd361",
   "metadata": {},
   "outputs": [],
   "source": [
    "t_ghg_1 = librosa.frames_to_time(range(len(rmsE_ghg_1)),hop_length=hop_size)"
   ]
  },
  {
   "cell_type": "code",
   "execution_count": null,
   "id": "2a12466b",
   "metadata": {},
   "outputs": [],
   "source": [
    "plt.figure(figsize=(18,8))\n",
    "plt.plot(t_ghg_1,rmsE_ghg_1,c='r')\n",
    "plt.show()"
   ]
  },
  {
   "cell_type": "markdown",
   "id": "34ba2a29",
   "metadata": {},
   "source": [
    "### FFTs"
   ]
  },
  {
   "cell_type": "code",
   "execution_count": null,
   "id": "0e2f38ac",
   "metadata": {},
   "outputs": [],
   "source": [
    "def fft(signal):\n",
    "    fft_signal=scipy.fft.fft(signal)\n",
    "    return fft_signal\n",
    "\n",
    "def plot_fft_abs(signal,sr,color='b'):\n",
    "    fft_signal=fft(signal)\n",
    "    fft_abs_signal=np.abs(fft_signal)\n",
    "    freq = np.linspace(0, sr, len(fft_abs_signal)) \n",
    "    \n",
    "    plt.figure(figsize=(18,8))\n",
    "\n",
    "    plt.plot(freq[0:int(len(freq)/2)],fft_abs_signal[0:int(len(freq)/2)],c=color)\n",
    "    plt.xlabel(\"Frequency (Hz)\")\n",
    "    plt.ylabel(\"Magnitude\")\n",
    "    plt.ylim([0, 1000])\n",
    "    plt.show()\n",
    "    return"
   ]
  },
  {
   "cell_type": "code",
   "execution_count": null,
   "id": "dc63efc9",
   "metadata": {},
   "outputs": [],
   "source": [
    "plot_fft_abs(signal_h2b_s4_4,sr_h2b_s4_4)"
   ]
  },
  {
   "cell_type": "code",
   "execution_count": null,
   "id": "51f2ee7f",
   "metadata": {},
   "outputs": [],
   "source": [
    "plot_fft_abs(signal_h2s_s4,sr_h2s_s4,'g')"
   ]
  },
  {
   "cell_type": "code",
   "execution_count": null,
   "id": "3586a0a8",
   "metadata": {},
   "outputs": [],
   "source": [
    "plot_fft_abs(signal_p2s_s4, sr_p2s_s4,'y')"
   ]
  },
  {
   "cell_type": "markdown",
   "id": "00a2e950",
   "metadata": {},
   "source": [
    "### Cepstrum (kinda)"
   ]
  },
  {
   "cell_type": "code",
   "execution_count": null,
   "id": "023fa99f",
   "metadata": {},
   "outputs": [],
   "source": [
    "def logspec(signal,sr):\n",
    "    logfft = np.log(np.abs(fft(signal))) # get the log of the |fft|. Need the fft function for this from above\n",
    "    freqs = np.linspace(0, sr, len(logfft))\n",
    "    return logfft,freqs\n",
    "        \n",
    "\n",
    "def ae_logspec(logfft,freqs,sr,frame_size=2048,hop_size=2048):    \n",
    "    ae_logfft = amplitude_envelope(logfft[0:int(len(freqs)/2)],frame_size=frame_size,hop_length=hop_size) # get the amplitude envelope of the logfft\n",
    "    ae_freqs = np.linspace(0, sr/2, len(ae_logfft)) \n",
    "    return ae_logfft,ae_freqs\n",
    "\n",
    "def smooth_ae(ae,ae_freqs,sr,smooth_factor=2):\n",
    "    f1 = scipy.interpolate.UnivariateSpline(ae_freqs, ae,s=smooth_factor)\n",
    "    new_ae_freqs = np.linspace(0, sr/2, 4*len(ae)) \n",
    "    return new_ae_freqs,f1(new_ae_freqs)\n",
    "\n",
    "\n",
    "\n",
    "def plot_logspec(logspec,sr,frame_size,hop_size,sources,smoothing=2,plot_spec=True,plot_ae=True,plot_smooth_ae=True):\n",
    "    plt.figure(figsize=(18,8))\n",
    "    for signal,srate in zip(logspec,sr):\n",
    "        logfft=signal[0]\n",
    "        freqs=signal[1]\n",
    "        if plot_spec:\n",
    "            plt.plot(freqs[0:int(len(freqs)/2)],logfft[0:int(len(freqs)/2)])\n",
    "        if plot_ae:\n",
    "            ae = ae_logspec(logfft,freqs,srate,frame_size,hop_size)\n",
    "            plt.plot(ae[1],ae[0])\n",
    "        if plot_smooth_ae:\n",
    "            ae = ae_logspec(logfft,freqs,srate,frame_size,hop_size)\n",
    "            smooth = smooth_ae(ae[0],ae[1],sr=srate,smooth_factor=smoothing)\n",
    "            plt.plot(smooth[0],smooth[1],lw=3)\n",
    "    plt.legend(sources)\n",
    "    plt.xlabel(\"Frequency (Hz)\")\n",
    "    plt.ylabel(\"Magnitude (dB)\")\n",
    "    plt.show()\n",
    "    \n",
    "    return"
   ]
  },
  {
   "cell_type": "code",
   "execution_count": null,
   "id": "cd07fd9d",
   "metadata": {},
   "outputs": [],
   "source": [
    "logspec_h2b_s4_4 = logspec(signal_h2b_s4_4,sr_h2b_s4_4)\n",
    "logspec_h2s_s4 = logspec(signal_h2s_s4,sr_h2s_s4)\n",
    "logspec_p2_s4 = logspec(signal_p2s_s4,sr_p2s_s4)\n",
    "\n",
    "plot_logspec([logspec_h2b_s4_4,logspec_h2s_s4,logspec_p2_s4],[sr_h2b_s4_4,sr_h2s_s4,sr_p2s_s4],\n",
    "         1024,1024, sources=['h2b_s4_4','h2s_s4','p2_s4'],smoothing=2,\n",
    "         plot_spec=False,plot_ae=False,plot_smooth_ae=True)"
   ]
  },
  {
   "cell_type": "markdown",
   "id": "dc9973ff",
   "metadata": {},
   "source": [
    "### Mel Specs"
   ]
  },
  {
   "cell_type": "code",
   "execution_count": null,
   "id": "03d63fec",
   "metadata": {},
   "outputs": [],
   "source": [
    "def mel_spec(signal,sr,fft_window,hop_size,n_mels):\n",
    "    melspec=librosa.feature.melspectrogram(y=signal, sr=sr, n_fft=fft_window, hop_length=hop_size, n_mels=n_mels)\n",
    "\n",
    "    plt.figure(figsize=(18, 8))\n",
    "    librosa.display.specshow(np.log(melspec), \n",
    "                         x_axis=\"time\",\n",
    "                         y_axis=\"mel\", \n",
    "                         sr=sr,cmap='magma')\n",
    "    plt.colorbar(format=\"%+2.f\")\n",
    "    plt.show()\n",
    "    return melspec"
   ]
  },
  {
   "cell_type": "code",
   "execution_count": null,
   "id": "572c036c",
   "metadata": {},
   "outputs": [],
   "source": [
    "melspec_bbe_4=mel_spec(signal_bbe_4,sr_bbe_4,2048,512,12)"
   ]
  },
  {
   "cell_type": "code",
   "execution_count": null,
   "id": "5a718ff4",
   "metadata": {},
   "outputs": [],
   "source": [
    "melspec_bbe_5=mel_spec(signal_bbe_5,sr_bbe_5,2048,512,12)"
   ]
  },
  {
   "cell_type": "code",
   "execution_count": null,
   "id": "1f8f27c0",
   "metadata": {},
   "outputs": [],
   "source": [
    "melspec_bbe_1=mel_spec(signal_bbe_1,sr_bbe_1,2048,512,12)"
   ]
  },
  {
   "cell_type": "code",
   "execution_count": null,
   "id": "476dbe97",
   "metadata": {},
   "outputs": [],
   "source": [
    "melspec_ghg_1=mel_spec(signal_ghg_1,sr_ghg_1,2048,512,12)"
   ]
  },
  {
   "cell_type": "markdown",
   "id": "c7a08d73",
   "metadata": {},
   "source": [
    "### MFCCs, Delta - MFCCs, Delta^2 - MFCCs"
   ]
  },
  {
   "cell_type": "code",
   "execution_count": null,
   "id": "f1987cf4",
   "metadata": {},
   "outputs": [],
   "source": [
    "def mfccs(signal,sr,n=13):\n",
    "    mfccs = librosa.feature.mfcc(y=signal, sr=sr,n_mfcc=n)\n",
    "    plt.figure(figsize=(18, 8))\n",
    "    librosa.display.specshow(mfccs, \n",
    "                         x_axis=\"time\", \n",
    "                         sr=sr,\n",
    "                            cmap='plasma')\n",
    "    plt.colorbar(format=\"%+2.f\")\n",
    "    plt.show()\n",
    "    return mfccs\n",
    "\n",
    "\n",
    "def d_mfccs(mfcc,sr,n_order=1):\n",
    "    dmfccs=librosa.feature.delta(mfcc,order=n_order)\n",
    "    plt.figure(figsize=(18, 8))\n",
    "    librosa.display.specshow(dmfccs, \n",
    "                         x_axis=\"time\", \n",
    "                         sr=sr,\n",
    "                            cmap='plasma')\n",
    "    plt.colorbar(format=\"%+2.f\")\n",
    "    plt.show()\n",
    "    return dmfccs"
   ]
  },
  {
   "cell_type": "code",
   "execution_count": null,
   "id": "85fe1ab6",
   "metadata": {
    "scrolled": false
   },
   "outputs": [],
   "source": [
    "mfccs_bbe_4 = mfccs(signal_bbe_4,sr=sr_bbe_4,n=13)\n",
    "print(mfccs_bbe_4.shape)\n",
    "\n",
    "dmfccs_bbe_4 = d_mfccs(mfccs_bbe_4,sr=sr_bbe_4)\n",
    "print(dmfccs_bbe_4.shape)\n",
    "\n",
    "d2mfccs_bbe_4 = d_mfccs(dmfccs_bbe_4,sr=sr_bbe_4,n_order=2)\n",
    "print(d2mfccs_bbe_4.shape)\n",
    "\n",
    "\n",
    "mfccs_bbe_4_features = np.concatenate((mfccs_bbe_4, dmfccs_bbe_4, d2mfccs_bbe_4))\n",
    "\n"
   ]
  },
  {
   "cell_type": "code",
   "execution_count": null,
   "id": "c94b245f",
   "metadata": {},
   "outputs": [],
   "source": [
    "mfccs_bbe_5 = mfccs(signal_bbe_5,sr=sr_bbe_5,n=13)\n",
    "\n",
    "dmfccs_bbe_5 = d_mfccs(mfccs_bbe_5,sr=sr_bbe_5)\n",
    "\n",
    "d2mfccs_bbe_5 = d_mfccs(dmfccs_bbe_5,sr=sr_bbe_5,n_order=2)"
   ]
  },
  {
   "cell_type": "code",
   "execution_count": null,
   "id": "ddfc1aa6",
   "metadata": {},
   "outputs": [],
   "source": [
    "mfccs_bbe_1 = mfccs(signal_bbe_1,sr=sr_bbe_1,n=13)\n",
    "\n",
    "dmfccs_bbe_1 = d_mfccs(mfccs_bbe_1,sr=sr_bbe_1)\n",
    "\n",
    "d2mfccs_bbe_1 = d_mfccs(dmfccs_bbe_1,sr=sr_bbe_1,n_order=2)"
   ]
  },
  {
   "cell_type": "code",
   "execution_count": null,
   "id": "dda012a0",
   "metadata": {},
   "outputs": [],
   "source": [
    "mfccs_ghg_1 = mfccs(signal_ghg_1,sr=sr_ghg_1,n=13)\n",
    "\n",
    "dmfccs_ghg_1 = d_mfccs(mfccs_ghg_1,sr=sr_ghg_1)\n",
    "\n",
    "d2mfccs_ghg_1 = d_mfccs(dmfccs_ghg_1,sr=sr_ghg_1,n_order=2)"
   ]
  },
  {
   "cell_type": "markdown",
   "id": "3fcabc47",
   "metadata": {},
   "source": [
    "### Spectrograms"
   ]
  },
  {
   "cell_type": "code",
   "execution_count": null,
   "id": "c7716d1c",
   "metadata": {},
   "outputs": [],
   "source": [
    "def plot_stft(signal,sr, fft_window,hop_size,y_axis='log',colormap='jet'):\n",
    "    stft=librosa.stft(signal,n_fft=fft_window, hop_length=hop_size)\n",
    "    spec_power = np.abs(stft)**2\n",
    "    p_to_db = librosa.power_to_db(spec_power)\n",
    "    plt.figure(figsize=(18,8))\n",
    "    librosa.display.specshow(p_to_db,sr=sr,hop_length=hop_size,x_axis='time',y_axis=y_axis,cmap=colormap)\n",
    "    plt.colorbar(format=\"%+2.f dB\")\n",
    "    plt.show()\n",
    "    return"
   ]
  },
  {
   "cell_type": "code",
   "execution_count": null,
   "id": "2d84b05c",
   "metadata": {},
   "outputs": [],
   "source": [
    "plot_stft(signal_h2b_s4_4,sr_h2b_s4_4,fft_window=4096,hop_size=256,y_axis='log',colormap='turbo')"
   ]
  },
  {
   "cell_type": "code",
   "execution_count": null,
   "id": "cd027ec1",
   "metadata": {},
   "outputs": [],
   "source": [
    "plot_stft(signal_h2s_s4,sr_h2s_s4,fft_window=4096,hop_size=256,y_axis='log',colormap='turbo')"
   ]
  },
  {
   "cell_type": "code",
   "execution_count": null,
   "id": "0cc7fb28",
   "metadata": {},
   "outputs": [],
   "source": [
    "plot_stft(signal_p2s_s4,sr_p2s_s4,fft_window=4096,hop_size=256,y_axis='log',colormap='turbo')"
   ]
  },
  {
   "cell_type": "markdown",
   "id": "cd8da5ba",
   "metadata": {},
   "source": [
    "### Spectral Centroid"
   ]
  },
  {
   "cell_type": "code",
   "execution_count": null,
   "id": "f07116a9",
   "metadata": {},
   "outputs": [],
   "source": [
    "def spectral_centroid(signal,sr,fft_window,hop_size):\n",
    "    SC = librosa.feature.spectral_centroid(y=signal,sr=sr,n_fft=fft_window,hop_length=hop_size)[0]\n",
    "    return SC"
   ]
  },
  {
   "cell_type": "code",
   "execution_count": null,
   "id": "2d411fa5",
   "metadata": {},
   "outputs": [],
   "source": [
    "def plot_SC(signal,sr,fft_window,hop_size,color='g'):\n",
    "    sc = spectral_centroid(signal,sr,fft_window,hop_size)\n",
    "    t = librosa.frames_to_time(range(len(sc)),hop_length=hop_size)\n",
    "    plt.figure(figsize=(22,10))\n",
    "    plt.plot(t,sc,c=color)\n",
    "    plt.show()\n",
    "    return"
   ]
  },
  {
   "cell_type": "code",
   "execution_count": null,
   "id": "0e9a4b06",
   "metadata": {},
   "outputs": [],
   "source": [
    "fft_window = 1024\n",
    "hop_size = 512"
   ]
  },
  {
   "cell_type": "code",
   "execution_count": null,
   "id": "b6d0d455",
   "metadata": {},
   "outputs": [],
   "source": [
    "plot_SC(signal_bbe_4,sr=sr_bbe_4,fft_window=fft_window,hop_size=hop_size,color='b')"
   ]
  },
  {
   "cell_type": "code",
   "execution_count": null,
   "id": "d7e4b6c1",
   "metadata": {},
   "outputs": [],
   "source": [
    "plot_SC(signal_bbe_5,sr=sr_bbe_5,fft_window=fft_window,hop_size=hop_size,color='r')"
   ]
  },
  {
   "cell_type": "code",
   "execution_count": null,
   "id": "2f90ff9f",
   "metadata": {},
   "outputs": [],
   "source": [
    "plot_SC(signal_bbe_1,sr=sr_bbe_1,fft_window=fft_window,hop_size=hop_size,color='y')"
   ]
  },
  {
   "cell_type": "code",
   "execution_count": null,
   "id": "62b38a5b",
   "metadata": {},
   "outputs": [],
   "source": [
    "\n",
    "plot_SC(signal_ghg_1,sr=sr_ghg_1,fft_window=fft_window,hop_size=hop_size)"
   ]
  },
  {
   "cell_type": "markdown",
   "id": "c6d17e7d",
   "metadata": {},
   "source": [
    "### Spectral Bandwidth"
   ]
  },
  {
   "cell_type": "code",
   "execution_count": null,
   "id": "22fc6e28",
   "metadata": {},
   "outputs": [],
   "source": [
    "def s_bandwidth(signal,sr,fft_window,hop_size):\n",
    "    sbw = librosa.feature.spectral_bandwidth(y=signal,sr=sr,n_fft=fft_window,hop_length=hop_size)[0]\n",
    "    return sbw"
   ]
  },
  {
   "cell_type": "code",
   "execution_count": null,
   "id": "2156dca2",
   "metadata": {},
   "outputs": [],
   "source": [
    "def plot_SBW(signal,sr,fft_window,hop_size,color='b'):\n",
    "    sbw = s_bandwidth(signal,sr,fft_window,hop_size)\n",
    "    t = librosa.frames_to_time(range(len(sbw)),hop_length=hop_size)\n",
    "    plt.figure(figsize=(22,10))\n",
    "    plt.plot(t,sbw,c=color)\n",
    "    plt.show()\n",
    "    return"
   ]
  },
  {
   "cell_type": "code",
   "execution_count": null,
   "id": "c8e2e9b6",
   "metadata": {},
   "outputs": [],
   "source": [
    "fft_window = 1024\n",
    "hop_size = 512"
   ]
  },
  {
   "cell_type": "code",
   "execution_count": null,
   "id": "fe670d06",
   "metadata": {},
   "outputs": [],
   "source": [
    "plot_SBW(signal_bbe_4,sr=sr_bbe_4,fft_window=fft_window,hop_size=hop_size)"
   ]
  },
  {
   "cell_type": "code",
   "execution_count": null,
   "id": "062c2903",
   "metadata": {},
   "outputs": [],
   "source": [
    "plot_SBW(signal_bbe_5,sr=sr_bbe_5,fft_window=fft_window,hop_size=hop_size,color='g')"
   ]
  },
  {
   "cell_type": "code",
   "execution_count": null,
   "id": "1537ad5a",
   "metadata": {},
   "outputs": [],
   "source": [
    "plot_SBW(signal_bbe_1,sr=sr_bbe_1,fft_window=fft_window,hop_size=hop_size,color='r')"
   ]
  },
  {
   "cell_type": "code",
   "execution_count": null,
   "id": "85a320b6",
   "metadata": {},
   "outputs": [],
   "source": [
    "plot_SBW(signal_ghg_1,sr=sr_ghg_1,fft_window=fft_window,hop_size=hop_size)"
   ]
  },
  {
   "cell_type": "markdown",
   "id": "60ea0937",
   "metadata": {},
   "source": [
    "### Band Energy Ratio"
   ]
  },
  {
   "cell_type": "code",
   "execution_count": null,
   "id": "9f7bcbae",
   "metadata": {},
   "outputs": [],
   "source": [
    "# boundary frequency refers to the frequency we choose to define low and high frequencies.\n",
    "\n",
    "def band_energy_ratio(signal,sr, boundary_freq=2000,fft_window=1024,hop_size=512):\n",
    "    stft=librosa.stft(signal,n_fft=fft_window, hop_length=hop_size)# start with fourier transformation of original signal\n",
    "    spec_power = np.abs(stft)**2                                   # calculate power of the spectrum: P = |fft|^2 \n",
    "    freq_range = sr/2                                              # frequency range depends on sampling rate of the recording\n",
    "    n_freq_bins = spec_power.shape[0]                              # number of bins in the frequency dimension\n",
    "    freq_bin_size = freq_range/n_freq_bins                         # size of each bin in the frequency dimension\n",
    "    boundary_freq_bin = int(np.floor(boundary_freq/freq_bin_size)) # bin #ID of the boundary frequency\n",
    "    \n",
    "    ber = []                                                       # initialise the array where we'll keep the ratio value for each time step\n",
    "    for frame in spec_power.T:\n",
    "        high_f = frame[boundary_freq_bin:].sum()\n",
    "        low_f = frame[:boundary_freq_bin].sum()\n",
    "        ber.append(low_f/high_f)\n",
    "    return ber    "
   ]
  },
  {
   "cell_type": "code",
   "execution_count": null,
   "id": "89888a20",
   "metadata": {},
   "outputs": [],
   "source": [
    "## CHOOSE PARAMETER VALUES\n",
    "boundary_freq = 3000\n",
    "fft_window = 512\n",
    "hop_size = 128"
   ]
  },
  {
   "cell_type": "code",
   "execution_count": null,
   "id": "ce70a1f3",
   "metadata": {},
   "outputs": [],
   "source": [
    "def ber_plot(signal,sr,boundary_freq,fft_window,hop_size,ylim=1000,color='b'):\n",
    "    ber = band_energy_ratio(signal,sr, boundary_freq,fft_window=fft_window,hop_size=hop_size)\n",
    "    t = librosa.frames_to_time(range(len(ber)),hop_length=hop_size)\n",
    "    plt.figure(figsize=(22,10))\n",
    "    plt.plot(t,ber,c=color)\n",
    "    plt.ylim((0, ylim))\n",
    "    plt.show()\n",
    "    return"
   ]
  },
  {
   "cell_type": "code",
   "execution_count": null,
   "id": "54f0a36a",
   "metadata": {},
   "outputs": [],
   "source": [
    "ber_plot(signal_h2b_s4_4,sr_h2b_s4_4,boundary_freq,fft_window,hop_size,color='xkcd:moss',ylim=100)"
   ]
  },
  {
   "cell_type": "code",
   "execution_count": null,
   "id": "57d768c4",
   "metadata": {},
   "outputs": [],
   "source": [
    "ber_plot(signal_h2s_s4,sr_h2s_s4,boundary_freq,fft_window,hop_size,color='xkcd:cornflower blue',ylim=100)"
   ]
  },
  {
   "cell_type": "code",
   "execution_count": null,
   "id": "7f65d257",
   "metadata": {},
   "outputs": [],
   "source": [
    "ber_plot(signal_p2s_s4,sr_p2s_s4,boundary_freq,fft_window,hop_size,color='xkcd:tangerine',ylim=100)"
   ]
  },
  {
   "cell_type": "markdown",
   "id": "fdb12ab0",
   "metadata": {},
   "source": [
    "### Periodograms"
   ]
  },
  {
   "cell_type": "code",
   "execution_count": null,
   "id": "ca95b68f",
   "metadata": {},
   "outputs": [],
   "source": [
    "f, Pxx_den = scipy.signal.periodogram(signal_h2b_s4_4, sr_h2b_s4_4)\n",
    "plt.figure(figsize=(18,8))\n",
    "plt.semilogy(f, Pxx_den)\n",
    "plt.ylim([1e-7, 1e2])\n",
    "plt.xlabel('frequency [Hz]')\n",
    "plt.ylabel('PSD [V**2/Hz]')\n",
    "plt.show()"
   ]
  },
  {
   "cell_type": "code",
   "execution_count": null,
   "id": "9c51597e",
   "metadata": {},
   "outputs": [],
   "source": [
    "f, Pxx_den = scipy.signal.periodogram(signal_h2s_s4, sr_h2s_s4)\n",
    "plt.figure(figsize=(18,8))\n",
    "plt.semilogy(f, Pxx_den)\n",
    "plt.ylim([1e-7, 1e2])\n",
    "plt.xlabel('frequency [Hz]')\n",
    "plt.ylabel('PSD [V**2/Hz]')\n",
    "plt.show()"
   ]
  },
  {
   "cell_type": "code",
   "execution_count": null,
   "id": "1f20b053",
   "metadata": {},
   "outputs": [],
   "source": [
    "f, Pxx_den = scipy.signal.periodogram(signal_p2s_s4, sr_p2s_s4)\n",
    "plt.figure(figsize=(18,8))\n",
    "plt.semilogy(f, Pxx_den)\n",
    "plt.ylim([1e-7, 1e2])\n",
    "plt.xlabel('frequency [Hz]')\n",
    "plt.ylabel('PSD [V**2/Hz]')\n",
    "plt.show()"
   ]
  },
  {
   "cell_type": "markdown",
   "id": "8511be12",
   "metadata": {},
   "source": [
    "### Wavelets"
   ]
  },
  {
   "cell_type": "code",
   "execution_count": null,
   "id": "95a3abf3",
   "metadata": {},
   "outputs": [],
   "source": [
    "from kymatio.numpy import Scattering1D"
   ]
  },
  {
   "cell_type": "code",
   "execution_count": null,
   "id": "2e68f090",
   "metadata": {},
   "outputs": [],
   "source": [
    "signal_ghg_1.shape[-1]"
   ]
  },
  {
   "cell_type": "code",
   "execution_count": null,
   "id": "e0defb0f",
   "metadata": {},
   "outputs": [],
   "source": [
    "J=10\n",
    "Q=8\n",
    "T=signal_p2s_s4.shape[-1]\n",
    "#T=44100\n",
    "wsr=Scattering1D(J, T, Q)(signal_p2s_s4/(np.max(np.abs(signal_p2s_s4))))"
   ]
  },
  {
   "cell_type": "code",
   "execution_count": null,
   "id": "1aa7140b",
   "metadata": {},
   "outputs": [],
   "source": [
    "meta = Scattering1D(J, T, Q).meta()\n",
    "order0 = np.where(meta['order'] == 0)\n",
    "order1 = np.where(meta['order'] == 1)\n",
    "order2 = np.where(meta['order'] == 2)\n",
    "\n",
    "print(wsr[order0].shape,wsr[order1].shape,wsr[order2].shape)"
   ]
  },
  {
   "cell_type": "code",
   "execution_count": null,
   "id": "20aa5e9d",
   "metadata": {},
   "outputs": [],
   "source": [
    "plt.figure(figsize=(18, 8))\n",
    "plt.plot(signal_p2s_s4)\n",
    "plt.title('Original signal')"
   ]
  },
  {
   "cell_type": "code",
   "execution_count": null,
   "id": "696f3b66",
   "metadata": {},
   "outputs": [],
   "source": [
    "plt.figure(figsize=(18, 8))\n",
    "#plt.subplot(3, 1, 1)\n",
    "plt.plot(wsr[order0][0])\n",
    "plt.title('Zeroth-order scattering')"
   ]
  },
  {
   "cell_type": "code",
   "execution_count": null,
   "id": "b2a3e646",
   "metadata": {},
   "outputs": [],
   "source": [
    "plt.figure(figsize=(18, 8))\n",
    "#plt.subplot(3, 1, 2)\n",
    "#plt.imshow(np.log(np.abs(wsr[order1])), aspect='auto',origin='lower',cmap='turbo')\n",
    "plt.imshow(wsr[order1], aspect='auto',origin='lower',cmap='turbo')\n",
    "\n",
    "\n",
    "plt.title('First-order scattering')"
   ]
  },
  {
   "cell_type": "code",
   "execution_count": null,
   "id": "6b98a538",
   "metadata": {},
   "outputs": [],
   "source": [
    "plt.figure(figsize=(18, 8))\n",
    "#plt.subplot(3, 1, 3)\n",
    "plt.imshow(wsr[order2], aspect='auto', origin='lower',cmap='turbo')\n",
    "plt.title('Second-order scattering')"
   ]
  },
  {
   "cell_type": "code",
   "execution_count": null,
   "id": "f114a5e1",
   "metadata": {},
   "outputs": [],
   "source": [
    "plt.figure(figsize=(18, 8))\n",
    "im=wsr\n",
    "plt.imshow(im,aspect='auto',origin='lower',cmap='turbo')\n"
   ]
  },
  {
   "cell_type": "code",
   "execution_count": null,
   "id": "742a0e99",
   "metadata": {},
   "outputs": [],
   "source": [
    "J=10\n",
    "Q=8\n",
    "T=signal_h2b_s4_4.shape[-1]\n",
    "#T=44100\n",
    "wsr=Scattering1D(J, T, Q)(signal_h2b_s4_4)/(np.max(np.abs(signal_h2b_s4_4)))"
   ]
  },
  {
   "cell_type": "code",
   "execution_count": null,
   "id": "d207e122",
   "metadata": {},
   "outputs": [],
   "source": [
    "meta = Scattering1D(J, T, Q).meta()\n",
    "order0 = np.where(meta['order'] == 0)\n",
    "order1 = np.where(meta['order'] == 1)\n",
    "order2 = np.where(meta['order'] == 2)\n",
    "\n",
    "print(wsr[order0].shape,wsr[order1].shape,wsr[order2].shape)"
   ]
  },
  {
   "cell_type": "code",
   "execution_count": null,
   "id": "b25f9000",
   "metadata": {},
   "outputs": [],
   "source": [
    "plt.figure(figsize=(18, 8))\n",
    "plt.plot(signal_h2b_s4_4)\n",
    "plt.title('Original signal')"
   ]
  },
  {
   "cell_type": "code",
   "execution_count": null,
   "id": "956e5b9b",
   "metadata": {},
   "outputs": [],
   "source": [
    "plt.figure(figsize=(18, 8))\n",
    "#plt.subplot(3, 1, 1)\n",
    "plt.plot(wsr[order0][0])\n",
    "plt.title('Zeroth-order scattering')"
   ]
  },
  {
   "cell_type": "code",
   "execution_count": null,
   "id": "a6ffb988",
   "metadata": {},
   "outputs": [],
   "source": [
    "plt.figure(figsize=(18, 8))\n",
    "#plt.subplot(3, 1, 2)\n",
    "#plt.imshow(np.log(np.abs(wsr[order1])), aspect='auto',origin='lower',cmap='turbo')\n",
    "plt.imshow(wsr[order1], aspect='auto',origin='lower',cmap='turbo')\n",
    "\n",
    "\n",
    "plt.title('First-order scattering')"
   ]
  },
  {
   "cell_type": "code",
   "execution_count": null,
   "id": "5494fd15",
   "metadata": {},
   "outputs": [],
   "source": [
    "plt.figure(figsize=(18, 8))\n",
    "#plt.subplot(3, 1, 3)\n",
    "plt.imshow(wsr[order2], aspect='auto', origin='lower',cmap='turbo')\n",
    "plt.title('Second-order scattering')"
   ]
  },
  {
   "cell_type": "code",
   "execution_count": null,
   "id": "8279b9f1",
   "metadata": {},
   "outputs": [],
   "source": [
    "plt.figure(figsize=(18, 8))\n",
    "#im=np.log((wsr[order2]))\n",
    "im=wsr\n",
    "plt.imshow(im,aspect='auto',origin='lower',cmap='turbo')"
   ]
  },
  {
   "cell_type": "code",
   "execution_count": null,
   "id": "23fe4031",
   "metadata": {},
   "outputs": [],
   "source": [
    "J=10\n",
    "Q=8\n",
    "T=signal_h2s_s4.shape[-1]\n",
    "#T=44100\n",
    "wsr=Scattering1D(J, T, Q)(signal_h2s_s4)/np.max(np.abs(signal_h2s_s4))"
   ]
  },
  {
   "cell_type": "code",
   "execution_count": null,
   "id": "1941f472",
   "metadata": {},
   "outputs": [],
   "source": [
    "meta = Scattering1D(J, T, Q).meta()\n",
    "order0 = np.where(meta['order'] == 0)\n",
    "order1 = np.where(meta['order'] == 1)\n",
    "order2 = np.where(meta['order'] == 2)\n",
    "\n",
    "print(wsr[order0].shape,wsr[order1].shape,wsr[order2].shape)"
   ]
  },
  {
   "cell_type": "code",
   "execution_count": null,
   "id": "dd9990e6",
   "metadata": {},
   "outputs": [],
   "source": [
    "plt.figure(figsize=(18, 8))\n",
    "plt.plot(signal_h2s_s4)\n",
    "plt.title('Original signal')"
   ]
  },
  {
   "cell_type": "code",
   "execution_count": null,
   "id": "08278f4f",
   "metadata": {},
   "outputs": [],
   "source": [
    "plt.figure(figsize=(18, 8))\n",
    "#plt.subplot(3, 1, 1)\n",
    "plt.plot(wsr[order0][0])\n",
    "plt.title('Zeroth-order scattering')"
   ]
  },
  {
   "cell_type": "code",
   "execution_count": null,
   "id": "73804164",
   "metadata": {},
   "outputs": [],
   "source": [
    "plt.figure(figsize=(18, 8))\n",
    "#plt.subplot(3, 1, 2)\n",
    "#plt.imshow(np.log(np.abs(wsr[order1])), aspect='auto',origin='lower',cmap='turbo')\n",
    "plt.imshow(wsr[order1], aspect='auto',origin='lower',cmap='turbo')\n",
    "\n",
    "\n",
    "plt.title('First-order scattering')"
   ]
  },
  {
   "cell_type": "code",
   "execution_count": null,
   "id": "6cd98d51",
   "metadata": {},
   "outputs": [],
   "source": [
    "plt.figure(figsize=(18, 8))\n",
    "#plt.subplot(3, 1, 3)\n",
    "plt.imshow(wsr[order2], aspect='auto', origin='lower',cmap='turbo')\n",
    "plt.title('Second-order scattering')"
   ]
  },
  {
   "cell_type": "code",
   "execution_count": null,
   "id": "ad8b9a9d",
   "metadata": {},
   "outputs": [],
   "source": [
    "plt.figure(figsize=(18, 8))\n",
    "#im=np.log((wsr[order2]))\n",
    "im=wsr\n",
    "plt.imshow(im,aspect='auto',origin='lower',cmap='turbo')"
   ]
  },
  {
   "cell_type": "code",
   "execution_count": null,
   "id": "3689d508",
   "metadata": {},
   "outputs": [],
   "source": []
  },
  {
   "cell_type": "code",
   "execution_count": null,
   "id": "f32a8aca",
   "metadata": {},
   "outputs": [],
   "source": []
  },
  {
   "cell_type": "code",
   "execution_count": null,
   "id": "e75e1f24",
   "metadata": {},
   "outputs": [],
   "source": []
  }
 ],
 "metadata": {
  "kernelspec": {
   "display_name": "Python 3 (ipykernel)",
   "language": "python",
   "name": "python3"
  },
  "language_info": {
   "codemirror_mode": {
    "name": "ipython",
    "version": 3
   },
   "file_extension": ".py",
   "mimetype": "text/x-python",
   "name": "python",
   "nbconvert_exporter": "python",
   "pygments_lexer": "ipython3",
   "version": "3.9.7"
  },
  "toc": {
   "base_numbering": 1,
   "nav_menu": {},
   "number_sections": true,
   "sideBar": true,
   "skip_h1_title": false,
   "title_cell": "Table of Contents",
   "title_sidebar": "Contents",
   "toc_cell": false,
   "toc_position": {
    "height": "calc(100% - 180px)",
    "left": "10px",
    "top": "150px",
    "width": "337.1875px"
   },
   "toc_section_display": true,
   "toc_window_display": true
  }
 },
 "nbformat": 4,
 "nbformat_minor": 5
}
